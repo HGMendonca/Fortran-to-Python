{
 "cells": [
  {
   "attachments": {},
   "cell_type": "markdown",
   "metadata": {},
   "source": [
    "Interface between python and fortran.\n",
    "Documentation:\n",
    "- https://numpy.org/doc/stable/f2py/usage.html\n",
    "- https://pnavaro.github.io/python-notebooks/16-Fortran.html\n",
    "\n",
    "The `f2py` works for Fortran 77, Fortran 90, Fortran 2003 and Fortran 2005, but here we use the Fortran 90. In the Fortran version more recently the package `f2py` work's different compared with the oldest versions. `f2py` facilitates creating/building Python C/API extension modules that make it possible: to call Fortran 77/90/95 external subroutines and Fortran 90/95 module subroutines as well as C functions; to access Fortran 77 COMMON blocks and Fortran 90/95 module data, including allocatable arrays from Python.\n",
    "\n",
    "First we have to write the file with `f.90` extension.\n",
    "\n",
    "After to write the `f.90` file, we need compile the code. To do that, we use two commands lines:\n",
    "\n",
    "1) python -m numpy.f2py _namefile_.f90 -h _namefile_.pyf\n",
    "2) python -m numpy.f2py -c _namefile_.f90 -m _namecallable_\n",
    "\n",
    "Detail of command 1.:\n",
    "- The `f2py` is the extension of numpy.\n",
    "- Create signature file is saved to _namefile_.pyf with all input (IN) and output (OUT) variables.\n",
    "\n",
    "Detail of command 2.:\n",
    "- The quickest way to wrap the Fortran subroutine _namecallable_ for use in Python is to run.\n",
    "- This command compiles and wraps _namefile_.f90 (-c) to create the extension module _namefile_.so (-m) in the current directory.\n",
    "\n",
    "Now, we need to import the compiled subroutines using `import _namecallable_`. To use the callable, the command are given by \n",
    "\n",
    "                                OUTPUT_VARIBLES = _namecallable_._namecallable_(INPUT_VARIBLES)"
   ]
  },
  {
   "attachments": {},
   "cell_type": "markdown",
   "metadata": {},
   "source": [
    "----------------------------------------------------------------------------------------------------------------------------------------------"
   ]
  },
  {
   "attachments": {},
   "cell_type": "markdown",
   "metadata": {},
   "source": [
    "Tight-binding to Graphene:\n",
    "$$h(\\vec{k}) = \\begin{pmatrix}\n",
    "0& \\Delta_{\\vec{k}}\\\\\n",
    "\\Delta_{\\vec{k}}^* & 0\n",
    "\\end{pmatrix}$$\n",
    "\n",
    "where $\\Delta_{\\vec{k}} =-t(1 + 2e^{i\\sqrt{3}k_x/2}cos(k_y/2))$. ($a=1$)\n",
    "\n",
    "In the Hartree-Fock approximation, we include the electron-electron interativity term, called Hubbard term:\n",
    "$$H_U = U \\sum_{i} n_{i \\uparrow} n_{i \\downarrow} \\approx \\sum_i  n_{i \\uparrow}\\langle  n_{i \\downarrow} \\rangle +  n_{i \\downarrow}\\langle  n_{i \\uparrow} \\rangle - \\langle  n_{i \\uparrow} \\rangle \\langle  n_{i \\downarrow} \\rangle$$\n",
    "\n",
    "$$E_U = -U \\sum_j \\langle n_{j\\downarrow} \\rangle \\langle n_{j\\uparrow} \\rangle$$\n",
    "\n",
    "So the total Hamiltonian are\n",
    "\n",
    "$$H = \\begin{pmatrix}\n",
    "\\langle  n_{a \\downarrow} \\rangle& \\Delta_{\\vec{k}} & 0 & 0\\\\\n",
    "\\Delta_{\\vec{k}}^* & \\langle  n_{b \\downarrow} \\rangle & 0 & 0\\\\\n",
    "0&0& \\langle  n_{a \\uparrow} \\rangle& \\Delta_{\\vec{k}}\\\\\n",
    "0&0&\\Delta_{\\vec{k}}^* & \\langle  n_{b \\uparrow} \\rangle\\\\\n",
    "\\end{pmatrix} + E_U$$\n",
    "\n",
    "$E_U$ can be neglected and add in the Free-energy calculation.\n",
    "\n",
    "The self-consistent method are given by the schematic diagram:\n"
   ]
  },
  {
   "attachments": {},
   "cell_type": "markdown",
   "metadata": {},
   "source": [
    "<p align=\"center\">\n",
    "<img src=\"Untitled_Workspace.png\" style=\"width:550px;height:800px;\">\n",
    "</p>"
   ]
  },
  {
   "attachments": {},
   "cell_type": "markdown",
   "metadata": {},
   "source": [
    "In this code, we implement the density od states (DOS), chemical potential ($\\mu$), new occupations ($\\langle n_{i\\sigma}\\rangle$) and termodynamics functions (Total Energy: $E_T$, Entropy: $S$) in `FORTRAN 90`.\n",
    "\n",
    "The diagonalization and the self-cosistent calculus are implement in `PYTHON`."
   ]
  },
  {
   "attachments": {},
   "cell_type": "markdown",
   "metadata": {},
   "source": [
    "----------------------------------------------------------------------------------------------------------------------------------------------"
   ]
  },
  {
   "attachments": {},
   "cell_type": "markdown",
   "metadata": {},
   "source": [
    "Writing the `FORTRAN 90` parts:"
   ]
  },
  {
   "attachments": {},
   "cell_type": "markdown",
   "metadata": {},
   "source": [
    "We will discuss the calculation of DOS and the estimation of the Fermi energy ($E_F$):\n",
    "\n",
    "The DOS per unit cell are given by\n",
    "$$\\rho(\\omega) = \\frac{1}{N} \\sum_{\\vec{k}, i, \\sigma} \\delta(\\omega - \\epsilon_{i, \\sigma}(\\vec{k})),$$\n",
    "\n",
    "where $\\epsilon_{i, \\sigma}(\\vec{k})$ are the eigenvalues for the Hamiltonian $H$, and the range of energy are given in the interval $\\omega \\in [\\omega_{min}, \\omega_{max}]$, with $\\omega_{min} = \\text{min}(\\epsilon_{i, \\sigma}(\\vec{k})) - 0.5$ and $\\omega_{max} = \\text{max}(\\epsilon_{i, \\sigma}(\\vec{k})) + 0.5$.\n",
    "\n",
    "To estimate the Fermi energy ($E_F$) we do the integral\n",
    "$$\\bar{\\omega} \\leq \\omega_{max}$$\n",
    "$$\\int_{\\omega_{min}}^{\\bar{\\omega}} \\rho(\\omega ') d\\omega ' = n_e \\to E_F = \\bar{\\omega}$$"
   ]
  },
  {
   "cell_type": "code",
   "execution_count": 1,
   "metadata": {},
   "outputs": [
    {
     "name": "stdout",
     "output_type": "stream",
     "text": [
      "Overwriting dos.f90\n"
     ]
    }
   ],
   "source": [
    "%%file dos.f90\n",
    "subroutine dos(minimo, maximo, Nk, smearing, Nenergy, ne, edw, eup, ef)\n",
    "\tIMPLICIT NONE\n",
    "\n",
    "\tINTEGER, PARAMETER :: num=100 !Points of the discretization in ZB\n",
    "    \n",
    "    REAL(8), INTENT(IN) :: minimo\n",
    "    REAL(8), INTENT(IN) :: maximo\n",
    "    INTEGER, INTENT(IN) :: Nk\n",
    "    REAL(8), INTENT(IN) :: smearing\n",
    "    INTEGER, INTENT(IN) :: Nenergy\n",
    "    REAL(8) :: ne\n",
    "    REAL(8), INTENT(IN), DIMENSION(1:num,1:num,2) :: edw\n",
    "    REAL(8), INTENT(IN), DIMENSION(1:num,1:num,2) :: eup\n",
    "    REAL(8), INTENT(OUT) :: ef\n",
    "    \n",
    "    INTEGER :: x !index of in array of eigenvalues\n",
    "    INTEGER :: y !index of in array of eigenvalues\n",
    "    INTEGER :: inix=1\n",
    "\tINTEGER :: fimx=num\n",
    "    INTEGER :: iniy=1 \n",
    "\tINTEGER :: fimy=num\n",
    "    \n",
    "    REAL(8), PARAMETER :: pi=DACOS(-1.d0)\n",
    "    REAL(8) :: factor\n",
    "    REAL(8) :: alpha1dw\n",
    "\tREAL(8) :: alpha2dw\n",
    "\tREAL(8) :: alpha1up\n",
    "\tREAL(8) :: alpha2up\n",
    "\tREAL(8) :: alpha_sum\n",
    " \tREAL(8), DIMENSION(0:Nenergy) :: rho\n",
    "\tREAL(8) :: arg_rho\n",
    "  \n",
    "\tINTEGER(8) :: ienergy ! indice que corre a energia\n",
    "\tREAL(8) :: step_energy ! passo da energy\n",
    "\tREAL(8), DIMENSION(0:Nenergy) :: w  ! range de energy\n",
    " \n",
    "\tREAL(8), DIMENSION(0:Nenergy) :: integral\n",
    " \n",
    "\tstep_energy=((maximo+0.5d0)-(minimo-0.5d0))/Nenergy\n",
    "    \t\n",
    "    factor=1.d0/(smearing*REAL(Nk)*DSQRT(pi))\n",
    "\t\n",
    "\trho=0.d0\n",
    "\tDO ienergy=0,Nenergy\n",
    "\t    w(ienergy)=minimo-0.5d0+ienergy*step_energy\n",
    "\t    arg_rho=0.d0\n",
    "\t    DO y= iniy,fimy\n",
    "\t\t    DO x= inix, fimx\n",
    "\t\t\t    alpha1dw=DEXP(-1.d0*((w(ienergy)-edw(x,y,1))**2.d0)/(smearing**2.d0)) !Dirac delta\n",
    "\t    \t\talpha2dw=DEXP(-1.d0*((w(ienergy)-edw(x,y,2))**2.d0)/(smearing**2.d0)) !Dirac delta\n",
    "\t\t    \talpha1up=DEXP(-1.d0*((w(ienergy)-eup(x,y,1))**2.d0)/(smearing**2.d0)) !Dirac delta\n",
    "    \t\t\talpha2up=DEXP(-1.d0*((w(ienergy)-eup(x,y,2))**2.d0)/(smearing**2.d0)) !Dirac delta\n",
    "    \t\t\talpha_sum = alpha1dw+alpha2dw+alpha1up+alpha2up\n",
    "    \t\t\targ_rho= arg_rho + alpha_sum\n",
    "    \t\tEND DO\n",
    "    \tEND DO\n",
    "    \trho(ienergy)=factor*arg_rho\n",
    "\tEND DO\n",
    "\t!calculando a integral de rho para encontrar ef: \n",
    "\tintegral = 0.d0\n",
    "\tDO ienergy=1,Nenergy\n",
    "\t\tintegral(ienergy) = integral(ienergy-1) + (rho(ienergy)+rho(ienergy-1))\n",
    "\tEND DO\n",
    "\tintegral=integral*step_energy/2.d0\n",
    "\tDO ienergy=0,Nenergy\n",
    "\t\tIF (integral(ienergy)>=ne) THEN\n",
    "\t\t\tEXIT\n",
    "\t\tEND IF\n",
    "\tEND DO\n",
    "\t!DEFINE THE EF:\n",
    "\tIF (integral(ienergy)==ne) THEN\n",
    "\t\tef=w(ienergy)\n",
    "\tELSE\n",
    "\t\tef=w(ienergy-1)+step_energy*(ne-integral(ienergy-1))/&\n",
    "\t\t\t&(integral(ienergy)-integral(ienergy-1))\n",
    "\tEND IF  \n",
    "\n",
    "end subroutine dos"
   ]
  },
  {
   "attachments": {},
   "cell_type": "markdown",
   "metadata": {},
   "source": [
    "For chemical potential calculation, we used the **bisection method**, we define the interval $[E_F-\\alpha,\\cdots,E_F, \\cdots, E_F+\\alpha]$ with $\\mu_{min}= E_F-\\alpha$ and $\\mu_{max} = E_F$ (or $\\mu_{min}= E_F$ and $\\mu_{max} = E_F+\\alpha$ ), the calculation continues until $|\\mu_{min}- \\mu_{max}|<\\epsilon_{tol}$, and $\\mu = \\frac{\\mu_{max}+\\mu_{min}}{2}$.\n",
    "\n",
    "All the calculation we use the Fermi-Dirac distribution:\n",
    "$$n_{\\mu'} = \\frac{1}{exp[{\\beta(\\epsilon_{i, \\sigma}(\\vec{k})-\\mu')}]+1}$$"
   ]
  },
  {
   "cell_type": "code",
   "execution_count": 2,
   "metadata": {},
   "outputs": [
    {
     "name": "stdout",
     "output_type": "stream",
     "text": [
      "Overwriting chempot.f90\n"
     ]
    }
   ],
   "source": [
    "%%file chempot.f90\n",
    "Subroutine chempot(beta, Nk, ef, ne, edw, eup, mu)\n",
    "    IMPLICIT NONE\n",
    "\n",
    "    INTEGER, PARAMETER :: num=100 !Points of the discretization in ZB\n",
    "    \n",
    "    REAL(8), INTENT(IN) :: BETA !1/eV\n",
    "    REAL(8), INTENT(IN) :: ef, ne !Fermi energy (estimative); Numbers of electrons\n",
    "    INTEGER, INTENT(IN) :: Nk\n",
    "    REAL(8), INTENT(IN), DIMENSION(1:num,1:num,2) :: edw\n",
    "    REAL(8), INTENT(IN), DIMENSION(1:num,1:num,2) :: eup\n",
    "    REAL(8), INTENT(OUT) :: mu\n",
    "\n",
    "\tINTEGER :: kx !index of Brilloun Zone\n",
    "    INTEGER :: ky !index of Brilloun Zone\n",
    "\tREAL(8) :: chp, chpminus, chpplus, f, fplus, fminus, ff\n",
    "    REAL(8), PARAMETER :: muconv=1.d-6 !Convergence parameter\n",
    "\tREAL(8) :: occplus, occminus, occ\n",
    "    \n",
    "    INTEGER :: edgeinix=1!ZB \n",
    "\tINTEGER :: edgebordax=num-1 !ZB edge\n",
    "    INTEGER :: edgeiniy=1 !ZB \n",
    "\tINTEGER :: edgeborday=num-1 !ZB edge\n",
    "\t\n",
    "\tchpplus=ef+1.5d0\n",
    "\tchpminus=ef-1.5d0\n",
    "\tchp=ef\n",
    "\tfplus=0.d0\n",
    "\tfminus=0.d0\n",
    "\tDO kx= edgeinix,edgebordax\n",
    "        DO ky= edgeiniy,edgeborday\n",
    "            occplus =  1.D0/(DEXP(BETA*(edw(kx,ky,1)-chpplus)) + 1.D0)+&\n",
    "                    & 1.D0/(DEXP(BETA*(edw(kx,ky,2)-chpplus)) + 1.D0)+&\n",
    "                    & 1.D0/(DEXP(BETA*(eup(kx,ky,1)-chpplus)) + 1.D0)+&\n",
    "                    & 1.D0/(DEXP(BETA*(eup(kx,ky,2)-chpplus)) + 1.D0)\n",
    "            fplus=fplus+occplus\n",
    "            occminus = 1.D0/(DEXP(BETA*(edw(kx,ky,1)-chpminus)) + 1.D0)+&\n",
    "                    & 1.D0/(DEXP(BETA*(edw(kx,ky,2)-chpminus)) + 1.D0)+&\n",
    "                    & 1.D0/(DEXP(BETA*(eup(kx,ky,1)-chpminus)) + 1.D0)+&\n",
    "                    & 1.D0/(DEXP(BETA*(eup(kx,ky,2)-chpminus)) + 1.D0)\n",
    "            fminus=fminus+occminus\n",
    "        END DO\n",
    "\tEND DO\n",
    "\t\n",
    "\tfplus=(fplus/REAL(Nk))-ne\n",
    "\tfminus=(fminus/REAL(Nk))-ne\n",
    "\tff=fplus*fminus\n",
    "\tIF (ff>0) THEN\n",
    "\t\tSTOP\n",
    "\tEND IF\n",
    "\tDO WHILE (DABS(chpplus-chpminus)>muconv)\n",
    "\t\tf=0.d0\n",
    "\t\tfminus=0.d0\n",
    "\t\tchp=0.5d0*(chpplus+chpminus)\n",
    "\n",
    "\t\tDO kx=edgeinix, edgebordax\n",
    "            DO ky= edgeiniy,edgeborday\n",
    "\t\t    !Ocupação com muminus:\n",
    "                occminus = 1.D0/(DEXP(BETA*(edw(kx,ky,1)-chpminus)) + 1.D0)+&\n",
    "                        & 1.D0/(DEXP(BETA*(edw(kx,ky,2)-chpminus)) + 1.D0)+&\n",
    "                        & 1.D0/(DEXP(BETA*(eup(kx,ky,1)-chpminus)) + 1.D0)+&\n",
    "                        & 1.D0/(DEXP(BETA*(eup(kx,ky,2)-chpminus)) + 1.D0)\n",
    "                fminus=fminus+occminus\n",
    "                !Ocupação com mu:\n",
    "                occ=  1.D0/(DEXP(BETA*(edw(kx,ky,1)-chp)) + 1.D0)+&\n",
    "                    & 1.D0/(DEXP(BETA*(edw(kx,ky,2)-chp)) + 1.D0)+&\n",
    "                    & 1.D0/(DEXP(BETA*(eup(kx,ky,1)-chp)) + 1.D0)+&\n",
    "                    & 1.D0/(DEXP(BETA*(eup(kx,ky,2)-chp)) + 1.D0)\n",
    "            f=f+occ\n",
    "            END DO\n",
    "        END DO   ! Fim do K\n",
    "\n",
    "\t\tfminus=(fminus/REAL(Nk))-ne\n",
    "\t\tf=(f/REAL(Nk))-ne\n",
    "\n",
    "\t\tIF (fminus*f<0) THEN\n",
    "\t\t    chpplus=chp\n",
    "\t\tELSE\n",
    "\t\t\tchpminus=chp\n",
    "\t\tEND IF\n",
    "\tEND DO   ! Fim do while\n",
    "\tmu=0.5d0*(chpplus+chpminus)\n",
    "end subroutine chempot"
   ]
  },
  {
   "attachments": {},
   "cell_type": "markdown",
   "metadata": {},
   "source": [
    "With the chemical potential, we can calculate the new occupations for each sites to spin-up and spin-down.\n",
    "$$\\langle n_{j\\sigma} \\rangle = \\frac{1}{N} \\sum_{\\vec{k}, i=1,2} |A^i_{j, \\sigma}(\\vec{k})|^2 \\frac{1}{exp[{\\beta(\\epsilon_{i, \\sigma}(\\vec{k})-\\mu)}]+1}$$\n",
    "\n",
    "where $A^i_{j, \\sigma}(\\vec{k})$ are the elements of eigenvector of the Hamiltonian $H$."
   ]
  },
  {
   "cell_type": "code",
   "execution_count": 3,
   "metadata": {},
   "outputs": [
    {
     "name": "stdout",
     "output_type": "stream",
     "text": [
      "Overwriting newocc.f90\n"
     ]
    }
   ],
   "source": [
    "%%file newocc.f90\n",
    "Subroutine occupation(beta, Nk, mu, edw, eup, pdw0, pdw1, pup0, pup1, new_nadw, new_nbdw, new_naup, new_nbup)\n",
    "    IMPLICIT NONE\n",
    "\n",
    "    INTEGER, PARAMETER :: num=100 !Points of the discretization in ZB\n",
    "    \n",
    "    REAL(8), INTENT(IN) :: BETA !1/eV\n",
    "    INTEGER, INTENT(IN) :: Nk\n",
    "    REAL(8), INTENT(IN) :: mu ! chemical potential\n",
    "    REAL(8), INTENT(IN), DIMENSION(1:num,1:num,2) :: edw\n",
    "    REAL(8), INTENT(IN), DIMENSION(1:num,1:num,2) :: eup\n",
    "    COMPLEX(8), DIMENSION(1:num*num,2) :: pdw0\n",
    "    COMPLEX(8), DIMENSION(1:num*num,2) :: pdw1\n",
    "    COMPLEX(8), DIMENSION(1:num*num,2) :: pup0\n",
    "    COMPLEX(8), DIMENSION(1:num*num,2) :: pup1\n",
    "    REAL(8), INTENT(OUT) :: new_nadw\n",
    "    REAL(8), INTENT(OUT) :: new_nbdw\n",
    "    REAL(8), INTENT(OUT) :: new_naup\n",
    "    REAL(8), INTENT(OUT) :: new_nbup\n",
    "\n",
    "\tINTEGER :: kx !index of Brilloun Zone\n",
    "    INTEGER :: ky !index of Brilloun Zone\n",
    "    \n",
    "    INTEGER :: edgeinix=1!ZB \n",
    "\tINTEGER :: edgebordax=num-1 !ZB edge\n",
    "    INTEGER :: edgeiniy=1 !ZB \n",
    "\tINTEGER :: edgeborday=num-1 !ZB edge\n",
    " \n",
    "    INTEGER :: count\n",
    " \n",
    "    REAL(8) :: fadw\n",
    "    REAL(8) :: fbdw\n",
    "    REAL(8) :: faup\n",
    "    REAL(8) :: fbup\n",
    "    \n",
    "    new_nadw = 0.d0\n",
    "    new_naup = 0.d0\n",
    "    new_nbdw = 0.d0\n",
    "    new_nbup = 0.d0\n",
    "    \n",
    "    count = 0\n",
    "    \n",
    "    DO ky= edgeiniy,edgeborday\n",
    "\t\tDO kx= edgeinix, edgebordax\n",
    "\t\t\tfadw = 1.D0/(DEXP(beta*(edw(kx,ky,1)-mu)) + 1.D0)\n",
    "\t\t\tfbdw = 1.D0/(DEXP(beta*(edw(kx,ky,2)-mu)) + 1.D0)\n",
    "\t\t\tfaup = 1.D0/(DEXP(beta*(eup(kx,ky,1)-mu)) + 1.D0)\n",
    "\t\t\tfbup = 1.D0/(DEXP(beta*(eup(kx,ky,2)-mu)) + 1.D0)\n",
    "\t\t\t\t\t\t\t\t\n",
    "\t\t\tnew_nadw = new_nadw+fadw*DREAL(pdw0(count,1)*DCONJG(pdw0(count,1)))/(Nk) &\n",
    "\t\t\t\t\t&+ fbdw*DREAL(pdw1(count,1)*DCONJG(pdw1(count,1)))/(Nk)\n",
    "\t\t\tnew_nbdw = new_nbdw+fadw*DREAL(pdw0(count,2)*DCONJG(pdw0(count,2)))/(Nk) &\n",
    "\t\t\t\t\t&+ fbdw*DREAL(pdw1(count,2)*DCONJG(pdw1(count,2)))/(Nk)\n",
    "\t\t\tnew_naup = new_naup+faup*DREAL(pup0(count,1)*DCONJG(pup0(count,1)))/(Nk) &\n",
    "\t\t\t\t\t&+ fbup*DREAL(pup1(count,1)*DCONJG(pup1(count,1)))/(Nk)\n",
    "\t\t\tnew_nbup = new_nbup+faup*DREAL(pup0(count,2)*DCONJG(pup0(count,2)))/(Nk) &\n",
    "\t\t\t\t\t&+ fbup*DREAL(pup1(count,2)*DCONJG(pup1(count,2)))/(Nk)\n",
    "     \n",
    "            count = count + 1\n",
    "\t\tENDDO\n",
    "\tENDDO\n",
    " \n",
    "\n",
    "end subroutine occupation"
   ]
  },
  {
   "attachments": {},
   "cell_type": "markdown",
   "metadata": {},
   "source": [
    "The total energy are given by\n",
    "$$E_T = \\sum_{\\vec{k}, i, \\sigma} \\epsilon_{i, \\sigma}(\\vec{k})\\frac{1}{exp[{\\beta(\\epsilon_{i, \\sigma}(\\vec{k})-\\mu)}]+1}$$\n",
    "\n",
    "The entropy are given by\n",
    "$$S(T) = -k_B \\int_{-\\infty}^{\\infty} d\\omega \\rho(\\omega) \\big\\{ f(\\omega) ln[f(\\omega)] + [1-f(\\omega)] ln[1-f(\\omega)] \\big\\}$$\n",
    "\n",
    "where\n",
    "$$f(\\omega) = \\frac{1}{exp[{\\beta(\\omega-\\mu)}]+1} \\text{ and } \\beta = \\frac{1}{k_BT}$$\n",
    "\n",
    "The Free-Energy are given by\n",
    "$$F = E_T + E_U - TS(T)$$\n",
    "\n",
    "and \n",
    "$$E_U = -U \\sum_j \\langle n_{j\\downarrow} \\rangle \\langle n_{j\\uparrow} \\rangle$$"
   ]
  },
  {
   "cell_type": "code",
   "execution_count": 4,
   "metadata": {},
   "outputs": [
    {
     "name": "stdout",
     "output_type": "stream",
     "text": [
      "Overwriting termo.f90\n"
     ]
    }
   ],
   "source": [
    "%%file termo.f90\n",
    "subroutine termo(beta, Nk, mu, edw, eup, Et, TS)\n",
    "\tIMPLICIT NONE\n",
    "\n",
    "    INTEGER, PARAMETER :: num=100 !Points of the discretization in ZB\n",
    "    \n",
    "    REAL(8), INTENT(IN) :: BETA !1/eV\n",
    "    INTEGER, INTENT(IN) :: Nk\n",
    "    REAL(8), INTENT(IN) :: mu ! chemical potential\n",
    "    REAL(8), INTENT(IN), DIMENSION(1:num,1:num,2) :: edw\n",
    "    REAL(8), INTENT(IN), DIMENSION(1:num,1:num,2) :: eup\n",
    "    REAL(8), INTENT(OUT) :: Et\n",
    "    REAL(8), INTENT(OUT) :: TS\n",
    "    \n",
    "    INTEGER :: x !index of in array of eigenvalues\n",
    "    INTEGER :: y !index of in array of eigenvalues\n",
    "    INTEGER :: inix=1\n",
    "\tINTEGER :: fimx=num\n",
    "    INTEGER :: iniy=1 \n",
    "\tINTEGER :: fimy=num\n",
    "\n",
    "\tREAL(8) :: stemp\n",
    " \tREAL(8) :: sadw\n",
    "\tREAL(8) :: sbdw\n",
    "\tREAL(8) :: saup\n",
    "\tREAL(8) :: sbup\n",
    "\tREAL(8) :: etemp\n",
    "\n",
    "\tREAL(8) :: fadw\n",
    " \tREAL(8) :: fbdw\n",
    " \tREAL(8) :: faup\n",
    "\tREAL(8) :: fbup\n",
    "\n",
    "    stemp=0.d0\n",
    "\tsadw=0.d0\n",
    "\tsbdw=0.d0\n",
    "\tsaup=0.d0\n",
    "\tsbup=0.d0\n",
    "\tetemp=0.d0\n",
    "\tDO y= iniy,fimy\n",
    "\t\tDO x= inix, fimx\n",
    "\t\t\tfadw = 1.D0/(DEXP(BETA*(edw(x,y,1)-mu)) + 1.D0)\n",
    "\t\t\tfbdw = 1.D0/(DEXP(BETA*(edw(x,y,2)-mu)) + 1.D0)\n",
    "\t\t\tfaup = 1.D0/(DEXP(BETA*(eup(x,y,1)-mu)) + 1.D0)\n",
    "\t\t\tfbup = 1.D0/(DEXP(BETA*(eup(x,y,2)-mu)) + 1.D0)\n",
    "\t\t\t\t\n",
    "\t\t\tetemp = etemp+ fadw*edw(x,y,1) + fbdw*edw(x,y,2)+&\n",
    "\t\t\t\t\t\t & faup*eup(x,y,1) + fbup*eup(x,y,2)\n",
    "\t\t\t\t\t\t\n",
    "\t\t\tIF ((fadw>1.d-100).AND.(1.d0-fadw>1.d-100)) THEN\n",
    "\t\t\t\tsadw=sadw+(DLOG(fadw)*fadw+ &\n",
    "\t\t\t\t&DLOG(1.d0-fadw)*(1.d0-fadw))\n",
    "\t\t\tEND IF\t\n",
    "\t\t\tIF ((fbdw>1.d-100).AND.(1.d0-fbdw>1.d-100)) THEN\n",
    "\t\t\t\tsbdw=sbdw+(DLOG(fbdw)*fbdw+ &\n",
    "\t\t\t\t&DLOG(1.d0-fbdw)*(1.d0-fbdw))\n",
    "\t\t\tEND IF\t\n",
    "\t\t\tIF ((faup>1.d-100).AND.(1.d0-faup>1.d-100)) THEN\n",
    "\t\t\t\tsaup=saup+(DLOG(faup)*faup+ &\n",
    "\t\t\t\t&DLOG(1.d0-faup)*(1.d0-faup))\n",
    "\t\t\tEND IF\t\n",
    "\t\t\tIF ((fbup>1.d-100).AND.(1.d0-fbup>1.d-100)) THEN\n",
    "\t\t\t\tsbup=sbup+(DLOG(fbup)*fbup+ &\n",
    "\t\t\t\t&DLOG(1.d0-fbup)*(1.d0-fbup))\n",
    "\t\t\tEND IF\t\t  \n",
    "\t\tEND DO\n",
    "\tEND DO\n",
    "\tEt = etemp/(Nk)\n",
    "\tstemp=sadw+sbdw+saup+sbup\n",
    "\tTS = -stemp/(Nk*BETA) \n",
    "\n",
    "end subroutine"
   ]
  },
  {
   "attachments": {},
   "cell_type": "markdown",
   "metadata": {},
   "source": [
    "----------------------------------------------------------------------------------------------------------------------------------------------"
   ]
  },
  {
   "cell_type": "code",
   "execution_count": 1,
   "metadata": {},
   "outputs": [],
   "source": [
    "import numpy as np\n",
    "import matplotlib.pyplot as plt\n",
    "\n",
    "plt.rcParams.update({'font.size': 13})\n",
    "plt.rcParams.update({'text.usetex': True})\n",
    "plt.rcParams.update({'text.latex.preamble' : r'\\usepackage{amsmath}'})"
   ]
  },
  {
   "attachments": {},
   "cell_type": "markdown",
   "metadata": {},
   "source": [
    "Compiling `FORTRAN 90` parts:"
   ]
  },
  {
   "cell_type": "code",
   "execution_count": null,
   "metadata": {},
   "outputs": [],
   "source": [
    "import numpy.f2py\n",
    "\n",
    "!python -m numpy.f2py dos.f90 -h dos.pyf\n",
    "!python -m numpy.f2py -c dos.f90 -m dos\n",
    "\n",
    "!python -m numpy.f2py chempot.f90 -h chempot.pyf\n",
    "!python -m numpy.f2py -c chempot.f90 -m chempot\n",
    "\n",
    "!python -m numpy.f2py newocc.f90 -h newocc.pyf\n",
    "!python -m numpy.f2py -c newocc.f90 -m occupation\n",
    "\n",
    "!python -m numpy.f2py termo.f90 -h termo.pyf\n",
    "!python -m numpy.f2py -c termo.f90 -m termo"
   ]
  },
  {
   "attachments": {},
   "cell_type": "markdown",
   "metadata": {},
   "source": [
    "Importing subroutines from `FORTRAN 90`:"
   ]
  },
  {
   "cell_type": "code",
   "execution_count": 7,
   "metadata": {},
   "outputs": [],
   "source": [
    "import dos\n",
    "#print(dos.dos.__doc__)\n",
    "import chempot\n",
    "#print(chempot.chempot.__doc__)\n",
    "import occupation\n",
    "#print(occupation.occupation.__doc__)\n",
    "import termo\n",
    "#print(termo.termo.__doc__)"
   ]
  },
  {
   "attachments": {},
   "cell_type": "markdown",
   "metadata": {},
   "source": [
    "----------------------------------------------------------------------------------------------------------------------------------------------"
   ]
  },
  {
   "attachments": {},
   "cell_type": "markdown",
   "metadata": {},
   "source": [
    "Define the block-diagonal spin-down (-up) Hamiltonian:"
   ]
  },
  {
   "cell_type": "code",
   "execution_count": 8,
   "metadata": {},
   "outputs": [],
   "source": [
    "def hdw(t, U, kx, ky, naup, nbup):\n",
    "    dk =-t* (1 + 2*np.exp(1j*np.sqrt(3)*kx/2)*np.cos(ky/2))\n",
    "    dck = np.conjugate(dk)\n",
    "    h = dk*np.eye(2, k=1) + dck* np.eye(2, k=-1) + U*np.diag([naup,nbup])\n",
    "    edw, psidw = np.linalg.eigh(h)\n",
    "    return edw, psidw\n",
    "\n",
    "def hup(t, U, kx, ky, nadw, nbdw):\n",
    "    dk =-t* (1 + 2*np.exp(1j*np.sqrt(3)*kx/2)*np.cos(ky/2))\n",
    "    dck = np.conjugate(dk)\n",
    "    h = dk*np.eye(2, k=1) + dck* np.eye(2, k=-1) + U*np.diag([nadw,nbdw])\n",
    "    eup, psiup = np.linalg.eigh(h)\n",
    "    return eup, psiup"
   ]
  },
  {
   "attachments": {},
   "cell_type": "markdown",
   "metadata": {},
   "source": [
    "Initial parameters:"
   ]
  },
  {
   "cell_type": "code",
   "execution_count": 9,
   "metadata": {},
   "outputs": [],
   "source": [
    "N = 100\n",
    "Nk = int(N*N)\n",
    "kx = np.linspace(-np.pi, np.pi, N, endpoint=False)\n",
    "ky = np.linspace(-np.pi, np.pi, N, endpoint=False)\n",
    "t = 0.1\n",
    "U = 50 * t\n",
    "ne = 1\n",
    "occ = 1e-3\n",
    "smearing = 0.01\n",
    "Nenergy = 5*N\n",
    "temperature = 300\n",
    "kb = 8.617e-5\n",
    "beta = 1/(kb*temperature)\n",
    "delta = 0.05*ne"
   ]
  },
  {
   "attachments": {},
   "cell_type": "markdown",
   "metadata": {},
   "source": [
    "Differents initial inputs occupations:"
   ]
  },
  {
   "cell_type": "code",
   "execution_count": 10,
   "metadata": {},
   "outputs": [],
   "source": [
    "# nadw, nbdw, naup, nbup\n",
    "list_key = [\"Ferromagnetic\", \"Paramagnetic\", \"Antiferromagnetic\"]\n",
    "dict = {\"Paramagnetic\": [ne/4,ne/4,ne/4,ne/4],\n",
    "        \"Ferromagnetic\": [ne/4-delta,ne/4-delta,ne/4+delta,ne/4+delta],\n",
    "        \"Antiferromagnetic\": [ne/4+delta,ne/4-delta,ne/4-delta,ne/4+delta]\n",
    "}"
   ]
  },
  {
   "attachments": {},
   "cell_type": "markdown",
   "metadata": {},
   "source": [
    "Self-consistent method:"
   ]
  },
  {
   "cell_type": "code",
   "execution_count": 11,
   "metadata": {},
   "outputs": [
    {
     "name": "stdout",
     "output_type": "stream",
     "text": [
      "Considering: U = 5.0 unit in t; ne = 1 ; at temperature = 300 K\n",
      "input magnetic phase: Ferromagnetic\n",
      "In the case Ferromagnetic the Free energy is: -0.17150925129657824\n",
      "The converged occupation is:\n",
      "new_nadw = 0.0 new_nbdw = 0.0 new_naup = 0.5 new_nbup = 0.5 \n",
      "\n",
      "input magnetic phase: Paramagnetic\n",
      "In the case Paramagnetic the Free energy is: 0.3895984906896269\n",
      "The converged occupation is:\n",
      "new_nadw = 0.25 new_nbdw = 0.25 new_naup = 0.25 new_nbup = 0.25 \n",
      "\n",
      "input magnetic phase: Antiferromagnetic\n",
      "In the case Antiferromagnetic the Free energy is: -0.05004389007135887\n",
      "The converged occupation is:\n",
      "new_nadw = 0.5 new_nbdw = 0.0 new_naup = 0.0 new_nbup = 0.5 \n",
      "\n"
     ]
    }
   ],
   "source": [
    "print('Considering:', 'U =', U, 'unit in t;', 'ne =', ne, '; at temperature =', temperature, 'K')\n",
    "occ_nadw, occ_nbdw, occ_naup, occ_nbup = [], [], [], []\n",
    "F = [] #array where I salve the free energy\n",
    "for key in list_key: #Change the occupation input occupation\n",
    "    print('input magnetic phase:', key)\n",
    "    nadw, nbdw, naup, nbup = dict[key][0], dict[key][1], dict[key][2], dict[key][3]\n",
    "    initial = True\n",
    "    new_nadw, new_nbdw, new_naup, new_nbup = 0, 0, 0, 0\n",
    "    \n",
    "    while((nadw-new_nadw)>occ or (nbdw-new_nbdw)>occ or (naup-new_naup)>occ or (nbup-new_nbup)>occ): #Self-consistent method\n",
    "        if(initial==True):\n",
    "            nadw = nadw\n",
    "            nbdw = nbdw\n",
    "            naup = naup\n",
    "            nbup = nbup\n",
    "        else:\n",
    "            nadw = new_nadw\n",
    "            nbdw = new_nbdw\n",
    "            naup = new_naup\n",
    "            nbup = new_nbup\n",
    "            \n",
    "        # Now build the diagonalization in fortran:\n",
    "        edw = np.zeros((N,N, 2))\n",
    "        eup = np.zeros((N,N, 2))\n",
    "        pdw0 = []\n",
    "        pup0 = []\n",
    "        pdw1 = []\n",
    "        pup1 = []\n",
    "        for x in range(len(kx)):\n",
    "            for y in range(len(ky)):\n",
    "                DW, PDW = hdw(t, U, kx[x], ky[y], naup, nbup)\n",
    "                edw[x][y][0] = DW[0]\n",
    "                edw[x][y][1] = DW[1]\n",
    "                pdw0.append(PDW[:,0])\n",
    "                pdw1.append(PDW[:,1])\n",
    "                UP, PUP = hup(t, U, kx[x], ky[y], nadw, nbdw)\n",
    "                eup[x][y][0] = UP[0]\n",
    "                eup[x][y][1] = UP[1]\n",
    "                pup0.append(PUP[:,0])\n",
    "                pup1.append(PUP[:,1])\n",
    "                \n",
    "        minimo = np.array([edw.min(), eup.min()]).min() # minimo de energia\n",
    "        maximo = np.array([edw.max(), eup.max()]).max() # maximo de energia\n",
    "        # calcula DOS e estima um valor de ef na para ne elétrons:\n",
    "        ef = dos.dos(minimo, maximo, Nk, smearing, Nenergy, ne, edw, eup) \n",
    "        \n",
    "        # calcula Potencial Químico (mu) a partir do chute de ef:\n",
    "        mu = chempot.chempot(beta, Nk, ef, ne, edw, eup)\n",
    "        \n",
    "        # calcula novas ocupações:\n",
    "        new_nadw, new_nbdw, new_naup, new_nbup = occupation.occupation(beta, Nk, mu, edw, eup, pdw0, pdw1, pup0, pup1)\n",
    "                    \n",
    "        initial = False\n",
    "        \n",
    "    occ_nadw.append(new_nadw)\n",
    "    occ_nbdw.append(new_nbdw)\n",
    "    occ_naup.append(new_naup)\n",
    "    occ_nbup.append(new_nbup)\n",
    "    Ucte = -U*(new_nadw*new_naup + new_nbdw*new_nbup)\n",
    "    Et, TS = termo.termo(beta, Nk, mu, edw, eup)\n",
    "    Et = Et + Ucte\n",
    "    F.append(Et - TS)\n",
    "    \n",
    "    print('In the case', key, 'the Free energy is:', Et - TS)\n",
    "    print('The converged occupation is:')\n",
    "    print('new_nadw =', round(new_nadw,2), 'new_nbdw =', round(new_nbdw,2), 'new_naup =', round(new_naup,2), 'new_nbup =', round(new_nbup,2), '\\n')\n",
    "    "
   ]
  },
  {
   "attachments": {},
   "cell_type": "markdown",
   "metadata": {},
   "source": [
    "----------------------------------------------------------------------------------------------------------------------------------------------"
   ]
  },
  {
   "cell_type": "code",
   "execution_count": 14,
   "metadata": {},
   "outputs": [
    {
     "data": {
      "image/png": "[encoded data removed]",
      "text/plain": [
       "<Figure size 640x480 with 1 Axes>"
      ]
     },
     "metadata": {},
     "output_type": "display_data"
    }
   ],
   "source": [
    "plt.hlines(y = F[0], xmin = 1, xmax = 2, color='red', label='Ferromagnetic')\n",
    "plt.hlines(y = F[0], xmin = 0.5, xmax = 2.5, color='black', linestyles='--', zorder=1, alpha=0.6)\n",
    "plt.hlines(y = F[1], xmin = 1, xmax = 2, color='lime', label='Paramagtic')\n",
    "plt.hlines(y = F[1], xmin = 0.5, xmax = 2.5, color='black', linestyles='--', zorder=1, alpha=0.6)\n",
    "plt.hlines(y = F[2], xmin = 1, xmax = 2, color='blue', label='Antiferromagnetic')\n",
    "plt.hlines(y = F[2], xmin = 0.5, xmax = 2.5, color='black', linestyles='--', zorder=1, alpha=0.6)\n",
    "plt.xlim(0.5, 2.5)\n",
    "plt.xticks([])\n",
    "plt.title(r'$U = 5 t; n_e = 1 \\text{ and } T = 300 [K]$')\n",
    "plt.ylabel(r'$Free-energy$')\n",
    "plt.legend(loc='center right')\n",
    "plt.show()"
   ]
  },
  {
   "cell_type": "code",
   "execution_count": 15,
   "metadata": {},
   "outputs": [
    {
     "data": {
      "image/png": "[encoded data removed]",
      "text/plain": [
       "<Figure size 640x480 with 3 Axes>"
      ]
     },
     "metadata": {},
     "output_type": "display_data"
    }
   ],
   "source": [
    "feadw, paadw, anadw = occ_nadw[0], occ_nadw[1], occ_nadw[2]  \n",
    "febdw, pabdw, anbdw = occ_nbdw[0], occ_nbdw[1], occ_nbdw[2]\n",
    "feaup, paaup, anaup = occ_naup[0], occ_naup[1], occ_naup[2]\n",
    "febup, pabup, anbup = occ_nbup[0], occ_nbup[1], occ_nbup[2]\n",
    "\n",
    "fig, ax = plt.subplots(nrows=3, ncols=1, layout=None, sharex=True)\n",
    "# Case Ferromagnetic\n",
    "ax[0].arrow(0, 0, 0, -feadw,width=.003, head_width=0.01, head_length=0.15,facecolor='blue', edgecolor='none') #a\n",
    "ax[0].arrow(0, 0, 0, feaup, width=.003, head_width=0.01, head_length=0.15, facecolor='red', edgecolor='none') #a\n",
    "ax[0].arrow(0.1, 0, 0, -febdw, width=.003, head_width=0.01, head_length=0.15, facecolor='blue', edgecolor='none') #b \n",
    "ax[0].arrow(0.1, 0, 0, febup, width=.003, head_width=0.01, head_length=0.15, facecolor='red', edgecolor='none') #b\n",
    "ax[0].scatter(0, 0, s=100, color='black')\n",
    "ax[0].scatter(0.1, 0, s=100, color='black')\n",
    "ax[0].text(0.004, 0, r'Site $A$')\n",
    "ax[0].text(0.086, 0, r'Site $B$')\n",
    "ax[0].hlines(y = 0, xmin = -0.01, xmax = 0.11, color='black', linestyles='--', zorder=1, alpha=0.6)\n",
    "ax[0].text(0.042, 0.1, 'Spin Up')\n",
    "ax[0].text(0.04, -0.15, 'Spin Down')\n",
    "ax[0].set_ylabel(r'$\\langle n_{i\\sigma} \\rangle$')\n",
    "ax[0].set_title('Ferromagnetism')\n",
    "\n",
    "# Case Paramagnetic\n",
    "ax[1].arrow(0, 0, 0, -paadw, width=.003, head_width=0.01, head_length=0.15,facecolor='blue', edgecolor='none') #a\n",
    "ax[1].arrow(0, 0, 0, paaup, width=.003, head_width=0.01, head_length=0.15, facecolor='red', edgecolor='none') #a\n",
    "ax[1].arrow(0.1, 0, 0, -pabdw,width=.003, head_width=0.01, head_length=0.15, facecolor='blue', edgecolor='none') #b \n",
    "ax[1].arrow(0.1, 0, 0, pabup, width=.003, head_width=0.01, head_length=0.15, facecolor='red', edgecolor='none') #b\n",
    "ax[1].scatter(0, 0, s=100, color='black')\n",
    "ax[1].scatter(0.1, 0, s=100, color='black')\n",
    "ax[1].text(0.004, 0, r'Site $A$')\n",
    "ax[1].text(0.086, 0, r'Site $B$')\n",
    "ax[1].hlines(y = 0, xmin = -0.01, xmax = 0.11, color='black', linestyles='--', zorder=1, alpha=0.6)\n",
    "ax[1].text(0.042, 0.1, 'Spin Up')\n",
    "ax[1].text(0.04, -0.15, 'Spin Down')\n",
    "ax[1].set_ylabel(r'$\\langle n_{i\\sigma} \\rangle$')\n",
    "ax[1].set_title('Paramagnetism')\n",
    "\n",
    "# Case Paramagnetic\n",
    "ax[2].arrow(0, 0, 0, -anadw, width=.003, head_width=0.01, head_length=0.15,facecolor='blue', edgecolor='none') #a\n",
    "ax[2].arrow(0, 0, 0, anaup,width=.003, head_width=0.01, head_length=0.15, facecolor='red', edgecolor='none') #a\n",
    "ax[2].arrow(0.1, 0, 0, -anbdw, width=.003, head_width=0.01, head_length=0.15, facecolor='blue', edgecolor='none') #b \n",
    "ax[2].arrow(0.1, 0, 0, anbup, width=.003, head_width=0.01, head_length=0.15, facecolor='red', edgecolor='none') #b\n",
    "ax[2].scatter(0, 0, s=100, color='black')\n",
    "ax[2].scatter(0.1, 0, s=100, color='black')\n",
    "ax[2].text(0.004, 0, r'Site $A$')\n",
    "ax[2].text(0.086, 0, r'Site $B$')\n",
    "ax[2].hlines(y = 0, xmin = -0.01, xmax = 0.11, color='black', linestyles='--', zorder=1, alpha=0.6)\n",
    "ax[2].text(0.042, 0.1, 'Spin Up')\n",
    "ax[2].text(0.04, -0.25, 'Spin Down')\n",
    "ax[2].set_ylabel(r'$\\langle n_{i\\sigma} \\rangle$')\n",
    "ax[2].set_title('Antiferromagnetism')\n",
    "ax[2].set_xticks([])\n",
    "\n",
    "plt.tight_layout()\n",
    "plt.show()"
   ]
  },
  {
   "cell_type": "code",
   "execution_count": null,
   "metadata": {},
   "outputs": [],
   "source": []
  }
 ],
 "metadata": {
  "kernelspec": {
   "display_name": "base",
   "language": "python",
   "name": "python3"
  },
  "language_info": {
   "codemirror_mode": {
    "name": "ipython",
    "version": 3
   },
   "file_extension": ".py",
   "mimetype": "text/x-python",
   "name": "python",
   "nbconvert_exporter": "python",
   "pygments_lexer": "ipython3",
   "version": "3.10.11"
  },
  "orig_nbformat": 4
 },
 "nbformat": 4,
 "nbformat_minor": 2
}
